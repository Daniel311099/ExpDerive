{
 "cells": [
  {
   "cell_type": "code",
   "execution_count": 2,
   "metadata": {},
   "outputs": [],
   "source": [
    "from sympy import Symbol, sympify, Function, Expr\n",
    "from sympy.parsing.latex import parse_latex\n",
    "from sympy.core.function import AppliedUndef\n",
    "from ExpDerive.derive import resolve\n",
    "from tests.resolver import resolver, eval_resolver, func_resolver\n",
    "\n"
   ]
  },
  {
   "cell_type": "code",
   "execution_count": 17,
   "metadata": {},
   "outputs": [],
   "source": [
    "latex = [\n",
    "    \"\\mathit{ast} + \\\\frac{p\\left(\\mathit{gls}\\\\right)}{x}\",\n",
    "    \"\\mathit{pos}\\cdot \\\\frac{100}{\\mathit{ast}+5}\",\n",
    "    \"\\mathit{pos} + \\mathit{ast} + \\mathit{gls}\",\n",
    "]\n"
   ]
  },
  {
   "cell_type": "code",
   "execution_count": 18,
   "metadata": {},
   "outputs": [],
   "source": [
    "expressions = [\n",
    "    resolve.ExpAPI(\n",
    "        latex=l,\n",
    "        plc_resolver=resolver,\n",
    "        func_resolver=func_resolver,\n",
    "        record_resolver=eval_resolver,\n",
    "        # namespace=6\n",
    "    )\n",
    "    for l in latex\n",
    "]"
   ]
  },
  {
   "cell_type": "code",
   "execution_count": 20,
   "metadata": {},
   "outputs": [],
   "source": [
    "for exp in expressions:\n",
    "    exp.build_expression()\n"
   ]
  },
  {
   "cell_type": "code",
   "execution_count": 21,
   "metadata": {},
   "outputs": [],
   "source": [
    "subjects = ['pl1', 'pl3', 'pl2']"
   ]
  },
  {
   "cell_type": "code",
   "execution_count": 22,
   "metadata": {},
   "outputs": [],
   "source": [
    "results = [\n",
    "    (exp, exp.evaluate(subjects))\n",
    "    for exp in expressions\n",
    "]\n",
    "    "
   ]
  },
  {
   "cell_type": "code",
   "execution_count": 24,
   "metadata": {},
   "outputs": [
    {
     "name": "stdout",
     "output_type": "stream",
     "text": [
      "\\mathit{ast} + \\frac{p\\left(\\mathit{gls}\\right)}{x}\n",
      "pl1 10.3888888888889\n",
      "pl3 24.9210526315789\n",
      "pl2 17.5714285714286\n",
      "\\mathit{pos}\\cdot \\frac{100}{\\mathit{ast}+5}\n",
      "pl1 50.0000000000000\n",
      "pl3 70.8333333333333\n",
      "pl2 63.1578947368421\n",
      "\\mathit{pos} + \\mathit{ast} + \\mathit{gls}\n",
      "pl1 21.0000000000000\n",
      "pl3 51.0000000000000\n",
      "pl2 36.0000000000000\n"
     ]
    }
   ],
   "source": [
    "for result in results:\n",
    "    print(result[0].latex)\n",
    "    result[1].print_values()"
   ]
  },
  {
   "cell_type": "code",
   "execution_count": 8,
   "metadata": {},
   "outputs": [
    {
     "data": {
      "text/latex": [
       "$\\displaystyle gls + \\left(ast + pos\\right)$"
      ],
      "text/plain": [
       "gls + ast + pos"
      ]
     },
     "execution_count": 8,
     "metadata": {},
     "output_type": "execute_result"
    }
   ],
   "source": [
    "parse_latex(expressions[2])"
   ]
  },
  {
   "cell_type": "code",
   "execution_count": 4,
   "metadata": {},
   "outputs": [
    {
     "name": "stdout",
     "output_type": "stream",
     "text": [
      "ast + p(gls)/x\n",
      "('name', 'namespace', 'lat')\n",
      "('name', 'namespace', 'lat')\n",
      "('name', 'namespace', 'lat')\n"
     ]
    }
   ],
   "source": [
    "lat = '\\mathit{ast} + \\\\frac{p\\left(\\mathit{gls}\\\\right)}{x}'\n",
    "# lat = 'x\\cdot g\\left(y, 7\\\\right)+p\\left(y\\\\right)'\n",
    "# resolver = None\n",
    "print(parse_latex(lat))\n",
    "exp = resolve.ExpAPI(latex=lat, plc_resolver=resolver, record_resolver=eval_resolver, func_resolver=func_resolver, namespace=6)\n",
    "ep = exp.build_expression()"
   ]
  },
  {
   "cell_type": "code",
   "execution_count": 6,
   "metadata": {},
   "outputs": [
    {
     "data": {
      "text/latex": [
       "$\\displaystyle ast + \\frac{0.5 p{\\left(gls \\right)}}{ast}$"
      ],
      "text/plain": [
       "ast + 0.5*p(gls)/ast"
      ]
     },
     "execution_count": 6,
     "metadata": {},
     "output_type": "execute_result"
    }
   ],
   "source": [
    "ep.expr"
   ]
  },
  {
   "cell_type": "code",
   "execution_count": 5,
   "metadata": {},
   "outputs": [
    {
     "name": "stdout",
     "output_type": "stream",
     "text": [
      "ast + 0.5*p(gls)/ast\n"
     ]
    },
    {
     "data": {
      "text/latex": [
       "$\\displaystyle 2.0 ast$"
      ],
      "text/plain": [
       "2.0*ast"
      ]
     },
     "execution_count": 5,
     "metadata": {},
     "output_type": "execute_result"
    }
   ],
   "source": [
    "print(ep.expr)\n",
    "ep.variables['x'].expression.expr"
   ]
  },
  {
   "cell_type": "code",
   "execution_count": 6,
   "metadata": {},
   "outputs": [
    {
     "name": "stdout",
     "output_type": "stream",
     "text": [
      "pl1 10.3888888888889\n",
      "pl3 24.9210526315789\n",
      "pl2 17.5714285714286\n"
     ]
    }
   ],
   "source": [
    "subjects = ['pl1', 'pl3', 'pl2']\n",
    "evaled = exp.evaluate(subjects)\n",
    "evaled.print_values()"
   ]
  },
  {
   "cell_type": "code",
   "execution_count": 7,
   "metadata": {},
   "outputs": [
    {
     "data": {
      "text/plain": [
       "'ast + \\\\frac{0.5 p{\\\\left(gls \\\\right)}}{ast}'"
      ]
     },
     "execution_count": 7,
     "metadata": {},
     "output_type": "execute_result"
    }
   ],
   "source": [
    "import sympy\n",
    "\n",
    "\n",
    "evaled.view_values()\n",
    "# type(evaled)\n",
    "# type(evaled.subjects[0].value)\n",
    "# get latex for a sympy expression\n",
    "sympy.printing.latex(exp.expression.expr)\n"
   ]
  }
 ],
 "metadata": {
  "kernelspec": {
   "display_name": "env_exp_derive",
   "language": "python",
   "name": "python3"
  },
  "language_info": {
   "codemirror_mode": {
    "name": "ipython",
    "version": 3
   },
   "file_extension": ".py",
   "mimetype": "text/x-python",
   "name": "python",
   "nbconvert_exporter": "python",
   "pygments_lexer": "ipython3",
   "version": "3.10.10"
  },
  "orig_nbformat": 4,
  "vscode": {
   "interpreter": {
    "hash": "8aa48f9282cb518c67e75e90aa8d7b412f16f88fbcf66ebe57f58a40deb17fbf"
   }
  }
 },
 "nbformat": 4,
 "nbformat_minor": 2
}
