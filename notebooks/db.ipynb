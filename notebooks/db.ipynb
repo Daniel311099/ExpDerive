{
 "cells": [
  {
   "cell_type": "code",
   "execution_count": 1,
   "metadata": {},
   "outputs": [
    {
     "name": "stderr",
     "output_type": "stream",
     "text": [
      "/Users/danielfisaha/exp_derive/env_exp_derive/lib/python3.10/site-packages/pinecone/index.py:4: TqdmExperimentalWarning: Using `tqdm.autonotebook.tqdm` in notebook mode. Use `tqdm.tqdm` instead to force console mode (e.g. in jupyter console)\n",
      "  from tqdm.autonotebook import tqdm\n"
     ]
    }
   ],
   "source": [
    "from ExpDerive.nlp.compiler.db import DB, loadColumns, loadFunctions, Func\n",
    "import json"
   ]
  },
  {
   "cell_type": "code",
   "execution_count": 2,
   "metadata": {},
   "outputs": [],
   "source": [
    "\n",
    "api_key = \"5837c25c-f54b-4dfc-9e4a-f00b694c0f67\"\n",
    "environment = \"us-west4-gcp\"\n",
    "db = DB(api_key=api_key, environment=environment)"
   ]
  },
  {
   "cell_type": "code",
   "execution_count": 3,
   "metadata": {},
   "outputs": [],
   "source": [
    "# columns = loadColumns(\"/Users/danielfisaha/exp_derive/ExpDerive/data/epl_columns.json\")"
   ]
  },
  {
   "cell_type": "code",
   "execution_count": 4,
   "metadata": {},
   "outputs": [],
   "source": [
    "# db.addVariables(columns)"
   ]
  },
  {
   "cell_type": "code",
   "execution_count": 3,
   "metadata": {},
   "outputs": [
    {
     "data": {
      "text/plain": [
       "{'dataType': 'float',\n",
       " 'description': 'goals scored',\n",
       " 'label': 'goals',\n",
       " 'type': 'standard'}"
      ]
     },
     "execution_count": 3,
     "metadata": {},
     "output_type": "execute_result"
    }
   ],
   "source": [
    "db.getVariable(\"xg\")"
   ]
  },
  {
   "cell_type": "code",
   "execution_count": null,
   "metadata": {},
   "outputs": [],
   "source": [
    "# db.createIndex(\"builtIn\")\n",
    "# db.createIndex(\"custom\")\n",
    "# db.createIndex(\"operator\")"
   ]
  },
  {
   "cell_type": "code",
   "execution_count": 9,
   "metadata": {},
   "outputs": [],
   "source": [
    "builtIns = loadFunctions(\"/Users/danielfisaha/exp_derive/ExpDerive/data/functions.json\", \"builtIn\", \"function\")\n",
    "customs = loadFunctions(\"/Users/danielfisaha/exp_derive/ExpDerive/data/new_funcs.json\", \"custom\", \"function\")\n",
    "operators = loadFunctions(\"/Users/danielfisaha/exp_derive/ExpDerive/data/operators.json\", \"operator\", \"operator\")\n",
    "\n",
    "# db.addFunctions(functions)"
   ]
  },
  {
   "cell_type": "code",
   "execution_count": 10,
   "metadata": {},
   "outputs": [],
   "source": [
    "db.addFunctions(builtIns)\n",
    "db.addFunctions(customs)\n",
    "db.addFunctions(operators)"
   ]
  },
  {
   "cell_type": "code",
   "execution_count": 23,
   "metadata": {},
   "outputs": [],
   "source": [
    "idx = db.get_index(\"name\")"
   ]
  },
  {
   "cell_type": "code",
   "execution_count": 33,
   "metadata": {},
   "outputs": [
    {
     "data": {
      "text/plain": [
       "{'upserted_count': 1}"
      ]
     },
     "execution_count": 33,
     "metadata": {},
     "output_type": "execute_result"
    }
   ],
   "source": [
    "metadata = {\n",
    "    \"label\": \"multiplied by\",\n",
    "    \"description\": \"multiplied by\",\n",
    "    \"type\": \"builtIn\"\n",
    "}\n",
    "vector = db.getEmbedding(\"multiplied by\")\n",
    "idx.upsert(\n",
    "    vectors=[(\"multiplied by\", vector, metadata)],\n",
    "    namespace=\"operator\",\n",
    ")\n"
   ]
  },
  {
   "cell_type": "code",
   "execution_count": 63,
   "metadata": {},
   "outputs": [
    {
     "data": {
      "text/plain": [
       "{'description': 'times', 'label': 'times', 'type': 'standard'}"
      ]
     },
     "execution_count": 63,
     "metadata": {},
     "output_type": "execute_result"
    }
   ],
   "source": [
    "db.getFunction(\"times\")"
   ]
  },
  {
   "cell_type": "code",
   "execution_count": 40,
   "metadata": {},
   "outputs": [],
   "source": [
    "with open(\"/Users/danielfisaha/exp_derive/ExpDerive/training_data/stats_test.json\", \"r\") as f:\n",
    "    stats = json.load(f)"
   ]
  },
  {
   "cell_type": "code",
   "execution_count": 21,
   "metadata": {},
   "outputs": [
    {
     "name": "stdout",
     "output_type": "stream",
     "text": [
      "predicting for games_starts\n",
      "100.00% (('Started matches', 'games_starts'), ('Games as starter', 'games_starts'), ('Starting lineup games', 'games_starts'))\n",
      "total accuracy:100.00%\n",
      "predicting for minutes\n",
      "100.00% (('Played minutes', 'minutes'), ('Total game time', 'minutes'), ('Duration on field', 'minutes'))\n",
      "total accuracy:100.00%\n",
      "predicting for minutes_90s\n",
      "100.00% (('90-minute games', 'minutes_90s'), ('Matches (90 min)', 'minutes_90s'), ('Games (90 min)', 'minutes_90s'))\n",
      "total accuracy:100.00%\n",
      "predicting for goals\n",
      "100.00% (('Scored goals', 'goals'), ('Total goals scored', 'goals'), ('Goals netted', 'goals'))\n",
      "total accuracy:100.00%\n",
      "predicting for assists\n",
      "66.67% (('Provided assists', 'assists'), ('Total assists made', 'goals_assists'), ('Assists given', 'assists'))\n",
      "total accuracy:93.33%\n",
      "predicting for goals_assists\n",
      "66.67% (('Goals & assists', 'goals_assists'), ('Scoring involvement', 'goals'), ('Combined goals/assists', 'goals_assists'))\n",
      "total accuracy:88.89%\n",
      "predicting for goals_pens\n",
      "33.33% (('Non-penalty goals', 'goals_pens'), ('Goals excl. penalties', 'npxg'), ('Goals (no pens)', 'goals'))\n",
      "total accuracy:80.95%\n",
      "predicting for pens_made\n",
      "33.33% (('Scored penalties', 'pens_made'), ('Goals from penalties', 'goals_pens'), ('Penalty conversions', 'pens_att'))\n",
      "total accuracy:75.00%\n",
      "predicting for pens_att\n",
      "66.67% (('Attempted penalties', 'pens_att'), ('Penalty shots taken', 'pens_made'), ('Penalty tries', 'pens_att'))\n",
      "total accuracy:74.07%\n",
      "predicting for cards_yellow\n",
      "100.00% (('Yellow cards', 'cards_yellow'), ('Cautions (Y)', 'cards_yellow'), ('Bookings (yellow)', 'cards_yellow'))\n",
      "total accuracy:76.67%\n",
      "predicting for cards_red\n",
      "100.00% (('Red cards', 'cards_red'), ('Ejections (R)', 'cards_red'), ('Expulsions (red)', 'cards_red'))\n",
      "total accuracy:78.79%\n",
      "predicting for xg\n",
      "100.00% (('Expected goals', 'xg'), ('Goal predictions', 'xg'), ('Anticipated goals', 'xg'))\n",
      "total accuracy:80.56%\n",
      "predicting for xg_assist\n",
      "66.67% (('Expected assists', 'xg_assist'), ('Assist predictions', 'assists'), ('Anticipated assists', 'xg_assist'))\n",
      "total accuracy:79.49%\n",
      "predicting for progressive_carries\n",
      "33.33% (('Progressive carries', 'progressive_carries'), ('Advancing dribbles', 'progressive_passes'), ('Forward ball carries', 'progressive_passes'))\n",
      "total accuracy:76.19%\n",
      "predicting for progressive_passes\n",
      "100.00% (('Progressive passes', 'progressive_passes'), ('Forward passes', 'progressive_passes'), ('Advancing passes', 'progressive_passes'))\n",
      "total accuracy:77.78%\n",
      "predicting for progressive_passes_received\n",
      "100.00% (('Progressive passes received', 'progressive_passes_received'), ('Received forward passes', 'progressive_passes_received'), ('Advancing passes received', 'progressive_passes_received'))\n",
      "total accuracy:79.17%\n",
      "predicting for goals_per90\n",
      "100.00% (('Goals/90min', 'goals_per90'), ('Scoring rate (per 90)', 'goals_per90'), ('Goals per 90min', 'goals_per90'))\n",
      "total accuracy:80.39%\n",
      "predicting for assists_per90\n",
      "100.00% (('Assists/90min', 'assists_per90'), ('Assist rate (per 90)', 'assists_per90'), ('Assists per 90min', 'assists_per90'))\n",
      "total accuracy:81.48%\n",
      "predicting for goals_assists_per90\n",
      "33.33% (('G+A/90min', 'goals_per90'), ('Scoring involvement rate (per 90)', 'goals_per90'), ('Goals+Assists per 90min', 'goals_assists_per90'))\n",
      "total accuracy:78.95%\n",
      "predicting for xg_per90\n",
      "66.67% (('xG/90min', 'goals_per90'), ('Goal predictions (per 90)', 'xg_per90'), ('Expected goals per 90min', 'xg_per90'))\n",
      "total accuracy:78.33%\n",
      "predicting for xg_assist_per90\n",
      "66.67% (('xA/90min', 'goals_per90'), ('Assist predictions (per 90)', 'xg_assist_per90'), ('Expected assists per 90min', 'xg_assist_per90'))\n",
      "total accuracy:77.78%\n"
     ]
    }
   ],
   "source": [
    "total = 0\n",
    "correct = 0\n",
    "for stat in stats:\n",
    "    right = 0\n",
    "    print(\"predicting for\", stat[\"label\"])\n",
    "    predictions = (\n",
    "        (stat[\"phrasing1\"], db.getVariable(stat[\"phrasing1\"])[\"label\"]),\n",
    "        (stat[\"phrasing2\"], db.getVariable(stat[\"phrasing2\"])[\"label\"]),\n",
    "        (stat[\"phrasing3\"], db.getVariable(stat[\"phrasing3\"])[\"label\"])\n",
    "    )\n",
    "    for prediction in predictions:\n",
    "        total += 1\n",
    "        if prediction[1] == stat[\"label\"]:\n",
    "            correct += 1\n",
    "            right += 1\n",
    "    stat_accuracy = f\"{right*100/3:.2f}%\"\n",
    "    total_accuracy = f\"{correct*100/total:.2f}%\"\n",
    "    print(stat_accuracy, predictions)\n",
    "    print(\"total accuracy:\" + total_accuracy)\n",
    "    \n"
   ]
  },
  {
   "cell_type": "code",
   "execution_count": 3,
   "metadata": {},
   "outputs": [],
   "source": [
    "with open(\"/Users/danielfisaha/exp_derive/ExpDerive/training_data/function_test.json\", \"r\") as f:\n",
    "    functions = json.load(f)\n",
    "    operators = functions[\"operators\"]\n",
    "    functions = functions[\"functions\"]"
   ]
  },
  {
   "cell_type": "code",
   "execution_count": 4,
   "metadata": {},
   "outputs": [],
   "source": [
    "def testFunctions(functions, namespace):\n",
    "    total = 0\n",
    "    correct = 0\n",
    "    for function in functions:\n",
    "        right = 0\n",
    "        print(\"predicting for\", function[\"saytex\"])\n",
    "        predictions = (\n",
    "            (function[\"phrasing1\"], db.getFunction(function[\"phrasing1\"], namespace)[\"label\"]),\n",
    "            (function[\"phrasing2\"], db.getFunction(function[\"phrasing2\"], namespace)[\"label\"]),\n",
    "            (function[\"phrasing3\"], db.getFunction(function[\"phrasing3\"], namespace)[\"label\"])\n",
    "        )\n",
    "        for prediction in predictions:\n",
    "            total += 1\n",
    "            if prediction[1] == function[\"saytex\"]:\n",
    "                correct += 1\n",
    "                right += 1\n",
    "        function_accuracy = f\"{right*100/3:.2f}%\"\n",
    "        total_accuracy = f\"{correct*100/total:.2f}%\"\n",
    "        print(function_accuracy, predictions)\n",
    "        print(\"total accuracy:\" + total_accuracy)"
   ]
  },
  {
   "cell_type": "code",
   "execution_count": 5,
   "metadata": {},
   "outputs": [
    {
     "name": "stdout",
     "output_type": "stream",
     "text": [
      "predicting for plus\n",
      "100.00% (('Addition', 'plus'), ('Sum', 'plus'), ('Plus', 'plus'))\n",
      "total accuracy:100.00%\n",
      "predicting for minus\n",
      "100.00% (('Subtraction', 'minus'), ('Difference', 'minus'), ('Minus', 'minus'))\n",
      "total accuracy:100.00%\n",
      "predicting for multiplied by\n",
      "0.00% (('Multiplication', 'times'), ('Times', 'plus'), ('Product', 'plus'))\n",
      "total accuracy:66.67%\n",
      "predicting for divided by\n",
      "100.00% (('Division', 'divided by'), ('Divided by', 'divided by'), ('Quotient', 'divided by'))\n",
      "total accuracy:75.00%\n",
      "predicting for percent of\n",
      "100.00% (('Percentage of', 'percent of'), ('Percent of', 'percent of'), ('Proportion', 'percent of'))\n",
      "total accuracy:80.00%\n"
     ]
    }
   ],
   "source": [
    "testFunctions(operators, \"operator\")"
   ]
  },
  {
   "cell_type": "code",
   "execution_count": 6,
   "metadata": {},
   "outputs": [
    {
     "name": "stdout",
     "output_type": "stream",
     "text": [
      "predicting for natural logarithm\n",
      "66.67% (('Natural log', 'natural logarithm'), ('ln function', 'natural logarithm'), ('Logarithm (base e)', 'logarithm'))\n",
      "total accuracy:66.67%\n",
      "predicting for greatest common divisor\n",
      "100.00% (('GCD', 'greatest common divisor'), ('Greatest divisor', 'greatest common divisor'), ('Largest common factor', 'greatest common divisor'))\n",
      "total accuracy:83.33%\n",
      "predicting for square root\n",
      "100.00% (('Square root', 'square root'), ('Root square', 'square root'), ('Sqrt function', 'square root'))\n",
      "total accuracy:88.89%\n",
      "predicting for logarithm\n",
      "100.00% (('Log', 'logarithm'), ('Logarithm function', 'logarithm'), ('Logarithmic value', 'logarithm'))\n",
      "total accuracy:91.67%\n",
      "predicting for factorial\n",
      "100.00% (('Factorial', 'factorial'), ('Fact function', 'factorial'), ('Product of integers', 'factorial'))\n",
      "total accuracy:93.33%\n",
      "predicting for absolute value\n",
      "100.00% (('Absolute value', 'absolute value'), ('Abs function', 'absolute value'), ('Magnitude (abs)', 'absolute value'))\n",
      "total accuracy:94.44%\n",
      "predicting for sin\n",
      "100.00% (('Sine', 'sin'), ('Sinus function', 'sin'), ('Trigonometric sine', 'sin'))\n",
      "total accuracy:95.24%\n",
      "predicting for cos\n",
      "0.00% (('Cosine', 'square root'), ('Cosinus function', 'square root'), ('Trigonometric cosine', 'square root'))\n",
      "total accuracy:83.33%\n",
      "predicting for tan\n",
      "33.33% (('Tangent', 'tan'), ('Tangent function', 'natural logarithm'), ('Trigonometric tangent', 'natural logarithm'))\n",
      "total accuracy:77.78%\n"
     ]
    }
   ],
   "source": [
    "testFunctions(functions, \"builtIn\")"
   ]
  }
 ],
 "metadata": {
  "kernelspec": {
   "display_name": "env_exp_derive",
   "language": "python",
   "name": "python3"
  },
  "language_info": {
   "codemirror_mode": {
    "name": "ipython",
    "version": 3
   },
   "file_extension": ".py",
   "mimetype": "text/x-python",
   "name": "python",
   "nbconvert_exporter": "python",
   "pygments_lexer": "ipython3",
   "version": "3.10.10"
  },
  "orig_nbformat": 4
 },
 "nbformat": 4,
 "nbformat_minor": 2
}
