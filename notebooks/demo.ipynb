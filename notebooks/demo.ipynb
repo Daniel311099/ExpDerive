{
 "cells": [
  {
   "cell_type": "code",
   "execution_count": 1,
   "metadata": {},
   "outputs": [],
   "source": [
    "from ExpDerive.nlp.nlp_api import NlpAPI\n",
    "from ExpDerive.derive.resolve import ExpAPI\n",
    "from tests.resolver import resolver, eval_resolver, func_resolver\n",
    "from sklearn.ensemble import RandomForestClassifier\n",
    "import numpy as np\n"
   ]
  },
  {
   "cell_type": "code",
   "execution_count": 2,
   "metadata": {},
   "outputs": [],
   "source": [
    "# needs to be in exxternal json file \n",
    "columns = [\n",
    "    ('goals', 'gls'),\n",
    "    ('assists', 'ast'),\n",
    "    ('games played', 'gp'),\n",
    "]"
   ]
  },
  {
   "cell_type": "code",
   "execution_count": 3,
   "metadata": {},
   "outputs": [],
   "source": [
    "functions = [\n",
    "    ('function 1', 'f1'),\n",
    "    ('function 2', 'f2'),\n",
    "    ('function 3', 'f3'),\n",
    "]"
   ]
  },
  {
   "cell_type": "code",
   "execution_count": 4,
   "metadata": {},
   "outputs": [],
   "source": [
    "nlp = NlpAPI(\n",
    "    api_key = 'AIzaSyDZ2Zq',\n",
    ")"
   ]
  },
  {
   "cell_type": "code",
   "execution_count": 6,
   "metadata": {},
   "outputs": [],
   "source": [
    "nlp.train_column_classifier(columns) # expose this to the user to allow them to train their own models without the cli\n",
    "nlp.train_func_classifier(functions)"
   ]
  },
  {
   "cell_type": "code",
   "execution_count": 8,
   "metadata": {},
   "outputs": [],
   "source": [
    "phrase = 'goals plus assists divided by games played'\n",
    "nlp.load_models([])\n",
    "phrase = nlp.parse_phrase(phrase)\n",
    "# dir(nlp)"
   ]
  },
  {
   "cell_type": "code",
   "execution_count": 5,
   "metadata": {},
   "outputs": [
    {
     "name": "stdout",
     "output_type": "stream",
     "text": [
      "430147362386789\n"
     ]
    }
   ],
   "source": [
    "# get binary representation of a string\n",
    "string = 'afweqfe'\n",
    "as_binary = int(''.join(format(ord(i), 'b') for i in string), 2)\n",
    "print(as_binary)\n"
   ]
  },
  {
   "cell_type": "code",
   "execution_count": 6,
   "metadata": {},
   "outputs": [],
   "source": [
    "column_classifier = RandomForestClassifier(\n",
    "    n_estimators=100,\n",
    "    max_depth=2,\n",
    "    random_state=0,\n",
    ")\n",
    "column_classifier.fit(\n",
    "    np.array([int(''.join(format(ord(i), 'b') for i in column[0]),2) for column in columns]).reshape(-1,1),\n",
    "    [column[1] for column in columns],\n",
    ")\n",
    "nlp.set_column_classifier(column_classifier)\n",
    "# same for func classifier, only necassary if the user wants to train their own models, not called if load_models is called"
   ]
  },
  {
   "cell_type": "code",
   "execution_count": 7,
   "metadata": {},
   "outputs": [
    {
     "data": {
      "text/plain": [
       "array(['gp'], dtype='<U3')"
      ]
     },
     "execution_count": 7,
     "metadata": {},
     "output_type": "execute_result"
    }
   ],
   "source": [
    "stat = 'games played'\n",
    "column_classifier.predict(np.array([int(''.join(format(ord(i), 'b') for i in stat),2)]).reshape(-1,1))\n"
   ]
  }
 ],
 "metadata": {
  "kernelspec": {
   "display_name": "env_exp_derive",
   "language": "python",
   "name": "python3"
  },
  "language_info": {
   "codemirror_mode": {
    "name": "ipython",
    "version": 3
   },
   "file_extension": ".py",
   "mimetype": "text/x-python",
   "name": "python",
   "nbconvert_exporter": "python",
   "pygments_lexer": "ipython3",
   "version": "3.10.10"
  },
  "orig_nbformat": 4,
  "vscode": {
   "interpreter": {
    "hash": "8aa48f9282cb518c67e75e90aa8d7b412f16f88fbcf66ebe57f58a40deb17fbf"
   }
  }
 },
 "nbformat": 4,
 "nbformat_minor": 2
}
