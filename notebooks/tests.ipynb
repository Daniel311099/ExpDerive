{
 "cells": [
  {
   "cell_type": "code",
   "execution_count": 4,
   "metadata": {},
   "outputs": [],
   "source": [
    "from sympy import Symbol, sympify, Function, Expr\n",
    "from sympy.parsing.latex import parse_latex\n",
    "from sympy.core.function import AppliedUndef\n",
    "from ExpDerive.derive import expression\n",
    "from tests.resolver import resolver, eval_resolver, func_resolver\n",
    "\n"
   ]
  },
  {
   "cell_type": "code",
   "execution_count": 20,
   "metadata": {},
   "outputs": [
    {
     "data": {
      "text/plain": [
       "('x', 'y')"
      ]
     },
     "execution_count": 20,
     "metadata": {},
     "output_type": "execute_result"
    }
   ],
   "source": [
    "def f1 (x, y):\n",
    "    return x + y\n",
    "f1.__code__.co_varnames[:f1.__code__.co_argcount]\n",
    "# F = resolve.Func(func=f1)\n",
    "# F2 = resolve.Func(latex='h\\\\cdot\\\\frac{f}{3}')\n",
    "# F2(1, 2)\n"
   ]
  },
  {
   "cell_type": "code",
   "execution_count": 24,
   "metadata": {},
   "outputs": [],
   "source": [
    "f = Function('g')('x', 'y')"
   ]
  },
  {
   "cell_type": "code",
   "execution_count": 22,
   "metadata": {},
   "outputs": [
    {
     "data": {
      "text/plain": [
       "{'f'}"
      ]
     },
     "execution_count": 22,
     "metadata": {},
     "output_type": "execute_result"
    }
   ],
   "source": [
    "ex = parse_latex('f\\left(x\\cdot y \\\\right) + f\\left(3\\cdot z \\\\right)')\n",
    "\n",
    "func_names = set(map(\n",
    "    lambda f: f.func.__name__,\n",
    "    ex.atoms(AppliedUndef)\n",
    "))\n",
    "func_names"
   ]
  },
  {
   "cell_type": "code",
   "execution_count": 28,
   "metadata": {},
   "outputs": [
    {
     "name": "stdout",
     "output_type": "stream",
     "text": [
      "f(3*z) + g(x, y)\n",
      "f(x*y) + g(x, y)\n"
     ]
    }
   ],
   "source": [
    "for s in ex.atoms(AppliedUndef):\n",
    "    print(ex.subs(s, f))"
   ]
  },
  {
   "cell_type": "code",
   "execution_count": 12,
   "metadata": {},
   "outputs": [
    {
     "data": {
      "text/plain": [
       "mappingproxy({'x': <Parameter \"x\">, 'y': <Parameter \"y\">})"
      ]
     },
     "execution_count": 12,
     "metadata": {},
     "output_type": "execute_result"
    }
   ],
   "source": [
    "import inspect\n",
    "inspect.signature(f1)"
   ]
  },
  {
   "cell_type": "code",
   "execution_count": 16,
   "metadata": {},
   "outputs": [
    {
     "name": "stdout",
     "output_type": "stream",
     "text": [
      "(ast/3)*f(x - 1*2)\n",
      "{h(x)} 11 h(x) - 1*3\n",
      "set() 11 x**2\n",
      "x**2 22\n",
      "x**2 - 3 22\n",
      "[(x, x - 1*2)] f(x - 1*2) x**2 - 3\n",
      "(x - 1*2)**2 - 3\n",
      "ast*((x - 1*2)**2 - 3)/3\n",
      "ast*2\n",
      "ast*2\n",
      "ast\n",
      "ast*((x - 1*2)**2 - 3)/3\n",
      "ast\n",
      "f\\left(x-2\\right)\\cdot \\frac{\\mathit{ast}}{3}\n",
      "\\mathit{ast}*2\n",
      "ast*2 ast <ExpDerive.derive.resolve.Var object at 0x125ca4370>\n",
      "//////////\n",
      "ast*((x - 1*2)**2 - 3)/3 x <ExpDerive.derive.resolve.Var object at 0x125ceff70>\n",
      "ast*((ast*2 - 2)**2 - 3)/3 ast <ExpDerive.derive.resolve.Var object at 0x125cdb8e0>\n",
      "//////////\n"
     ]
    }
   ],
   "source": [
    "\n",
    "def test_build_tree():\n",
    "    tree = resolve.ExpTree('x+\\\\frac{y}{2}', 'g', resolver)\n",
    "    tree.build_expression()\n",
    "    print(tree.tree.expression)\n",
    "\n",
    "l = 'f\\left(x-2\\\\right)\\cdot \\\\frac{\\mathit{ast}}{3}'\n",
    "# l = 'x+\\\\frac{y}{2}'\n",
    "tree = resolve.ExpTree(l, 'g', resolver)\n",
    "tree.func_resolver = func_resolver\n",
    "tree.build_expression()"
   ]
  },
  {
   "cell_type": "code",
   "execution_count": 18,
   "metadata": {},
   "outputs": [
    {
     "name": "stdout",
     "output_type": "stream",
     "text": [
      "329.000000000000 0.333333333333333*ast*(4.0*(ast - 1)**2 - 3.0) ast*((ast*2 - 2)**2 - 3)/3\n"
     ]
    }
   ],
   "source": [
    "n = tree.tree.expression\n",
    "print(n.evalf(subs={'ast': 7}), n.evalf(), n)"
   ]
  },
  {
   "cell_type": "code",
   "execution_count": null,
   "metadata": {},
   "outputs": [],
   "source": [
    "print(tree.tree.expression)\n",
    "f = Function('f')(*[Symbol('x')])\n",
    "e = f + 1\n",
    "print(e.evalf(subs={'x': 2}), e.atoms(AppliedUndef))\n",
    "# Symbol('x').atoms(AppliedUndef)"
   ]
  },
  {
   "cell_type": "code",
   "execution_count": null,
   "metadata": {},
   "outputs": [],
   "source": [
    "exp = parse_latex('f\\left(s\\\\right)+2')\n",
    "fun = parse_latex('s^2')\n",
    "exp.atoms(AppliedUndef)\n",
    "for f in exp.atoms(AppliedUndef):\n",
    "    print(f.args)\n",
    "    print(exp.subs(f, fun), exp)"
   ]
  },
  {
   "cell_type": "code",
   "execution_count": null,
   "metadata": {},
   "outputs": [],
   "source": [
    "subjects = ['pl1', 'pl2', 'pl3']\n",
    "tree.eval_resolver = eval_resolver\n",
    "vals = tree.evaluate(subjects)\n",
    "print(vals)"
   ]
  },
  {
   "cell_type": "code",
   "execution_count": null,
   "metadata": {},
   "outputs": [],
   "source": [
    "# latex is sum of a and b over 2\n",
    "latex = \"f\\left(a\"+\"\\\\right)-b\"\n",
    "latex = \"\\cos \\left(b\\\\right)\"\n",
    "print(latex)\n",
    "# for v in ['a', 'b']:\n",
    "#     latex = latex.replace(v, '\\mathit{'+v+'}')\n",
    "#     print(latex)\n",
    "exp = parse_latex(latex)\n",
    "print(str(exp))\n"
   ]
  },
  {
   "cell_type": "code",
   "execution_count": null,
   "metadata": {},
   "outputs": [],
   "source": [
    "vars = exp.atoms(Symbol)\n",
    "{\n",
    "    str(v): 1\n",
    "    for v in vars\n",
    "}"
   ]
  },
  {
   "cell_type": "code",
   "execution_count": null,
   "metadata": {},
   "outputs": [],
   "source": [
    "print(g=\"g\")"
   ]
  }
 ],
 "metadata": {
  "kernelspec": {
   "display_name": "Python 3",
   "language": "python",
   "name": "python3"
  },
  "language_info": {
   "codemirror_mode": {
    "name": "ipython",
    "version": 3
   },
   "file_extension": ".py",
   "mimetype": "text/x-python",
   "name": "python",
   "nbconvert_exporter": "python",
   "pygments_lexer": "ipython3",
   "version": "3.10.9 (main, Dec 15 2022, 17:11:09) [Clang 14.0.0 (clang-1400.0.29.202)]"
  },
  "orig_nbformat": 4,
  "vscode": {
   "interpreter": {
    "hash": "b0fa6594d8f4cbf19f97940f81e996739fb7646882a419484c72d19e05852a7e"
   }
  }
 },
 "nbformat": 4,
 "nbformat_minor": 2
}
