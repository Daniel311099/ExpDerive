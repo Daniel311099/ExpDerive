{
 "cells": [
  {
   "cell_type": "code",
   "execution_count": 2,
   "metadata": {},
   "outputs": [],
   "source": [
    "from ExpDerive.nlp.compiler.compiler import CompilerBuilder"
   ]
  },
  {
   "cell_type": "code",
   "execution_count": 6,
   "metadata": {},
   "outputs": [],
   "source": [
    "compiler = CompilerBuilder().build()\n",
    "argLocator = compiler.argLoacator\n",
    "funcLocator = compiler.funcLocator"
   ]
  },
  {
   "cell_type": "code",
   "execution_count": 8,
   "metadata": {},
   "outputs": [
    {
     "name": "stdout",
     "output_type": "stream",
     "text": [
      "['goals', '@@', 'plus', '##', 'assists', 'over', '2']\n",
      "goals @@ plus ## assists over 2 Func(name='plus', type='infix', custom=None, loc=(1, 2))\n"
     ]
    }
   ],
   "source": [
    "func = funcLocator.getFunc(\"goals plus assists over 2\")"
   ]
  },
  {
   "cell_type": "code",
   "execution_count": 10,
   "metadata": {},
   "outputs": [
    {
     "data": {
      "text/plain": [
       "['goals', 'assists over 2']"
      ]
     },
     "execution_count": 10,
     "metadata": {},
     "output_type": "execute_result"
    }
   ],
   "source": [
    "argLocator.getArgs(\"goals plus assists over 2\", func)"
   ]
  }
 ],
 "metadata": {
  "kernelspec": {
   "display_name": "env_exp_derive",
   "language": "python",
   "name": "python3"
  },
  "language_info": {
   "codemirror_mode": {
    "name": "ipython",
    "version": 3
   },
   "file_extension": ".py",
   "mimetype": "text/x-python",
   "name": "python",
   "nbconvert_exporter": "python",
   "pygments_lexer": "ipython3",
   "version": "3.10.10"
  },
  "orig_nbformat": 4
 },
 "nbformat": 4,
 "nbformat_minor": 2
}
