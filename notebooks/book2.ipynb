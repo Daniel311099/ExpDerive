{
 "cells": [
  {
   "cell_type": "code",
   "execution_count": 1,
   "metadata": {},
   "outputs": [],
   "source": [
    "from sympy import Symbol, sympify, Function, Expr\n",
    "from sympy.parsing.latex import parse_latex\n",
    "from sympy.core.function import AppliedUndef\n",
    "from ExpDerive.derive import resolve\n",
    "from tests.resolver import resolver, eval_resolver, func_resolver\n",
    "\n"
   ]
  },
  {
   "cell_type": "code",
   "execution_count": 37,
   "metadata": {},
   "outputs": [
    {
     "name": "stdout",
     "output_type": "stream",
     "text": [
      "{p, a, s, o}\n",
      "p\n",
      "a\n",
      "s\n",
      "o\n"
     ]
    },
    {
     "data": {
      "text/latex": [
       "$\\displaystyle 2.0 a s t{\\left(p o s + 2.0 \\right)} + p \\left(p o s - 5.0\\right)$"
      ],
      "text/plain": [
       "2.0*(a*(s*t(p*(o*s) + 2.0))) + p*(p*(o*s) - 1*5.0)"
      ]
     },
     "execution_count": 37,
     "metadata": {},
     "output_type": "execute_result"
    }
   ],
   "source": [
    "from sympy import Eq\n",
    "\n",
    "\n",
    "ex = parse_latex('2.0 ast \\\\left(pos + 2.0\\\\right) + p{\\\\left(pos - 5.0 \\\\right)}')\n",
    "print(ex.atoms(Symbol))\n",
    "for eq in ex.atoms(Symbol):\n",
    "    # print(eq.lhs.args, eq.rhs)\n",
    "    print(eq)\n",
    "ex"
   ]
  },
  {
   "cell_type": "code",
   "execution_count": null,
   "metadata": {},
   "outputs": [],
   "source": [
    "exp = expression.Expression('\\mathit{ast} + \\\\frac{p\\left(\\mathit{gls}\\\\right)}{x}', func_resolver=func_resolver, var_resolver=resolver)\n",
    "# for f in exp.expr.atoms(AppliedUndef):\n",
    "#     print(exp.expr.subs(f, 7))\n",
    "exp.derive_vars()\n",
    "exp.derive_funcs()\n",
    "exp.functions['p'].func\n",
    "print(exp.expr)"
   ]
  },
  {
   "cell_type": "code",
   "execution_count": 3,
   "metadata": {},
   "outputs": [
    {
     "data": {
      "text/latex": [
       "$\\displaystyle 14.0 x + p{\\left(y \\right)}$"
      ],
      "text/plain": [
       "14.0*x + p(y)"
      ]
     },
     "execution_count": 3,
     "metadata": {},
     "output_type": "execute_result"
    }
   ],
   "source": [
    "lat = '\\mathit{ast} + \\\\frac{p\\left(\\mathit{gls}\\\\right)}{x}'\n",
    "lat = 'x\\cdot g\\left(y, 7\\\\right)+p\\left(y\\\\right)'\n",
    "resolver = None\n",
    "\n",
    "exp = resolve.ExpAPI(latex=lat, plc_resolver=resolver, record_resolver=eval_resolver, func_resolver=func_resolver)\n",
    "exp.build_expression().expr"
   ]
  },
  {
   "cell_type": "code",
   "execution_count": 3,
   "metadata": {},
   "outputs": [],
   "source": [
    "subjects = ['pl1', 'pl3', 'pl2']\n",
    "evaled = exp.evaluate(subjects)"
   ]
  },
  {
   "cell_type": "code",
   "execution_count": 34,
   "metadata": {},
   "outputs": [
    {
     "data": {
      "text/plain": [
       "'2.0 ast \\\\left(pos + 2.0\\\\right) + p{\\\\left(pos - 5.0 \\\\right)}'"
      ]
     },
     "execution_count": 34,
     "metadata": {},
     "output_type": "execute_result"
    }
   ],
   "source": [
    "import sympy\n",
    "\n",
    "\n",
    "evaled.view_values()\n",
    "# type(evaled)\n",
    "# type(evaled.subjects[0].value)\n",
    "# get latex for a sympy expression\n",
    "sympy.printing.latex(exp.expression.expr)\n"
   ]
  }
 ],
 "metadata": {
  "kernelspec": {
   "display_name": "Python 3",
   "language": "python",
   "name": "python3"
  },
  "language_info": {
   "codemirror_mode": {
    "name": "ipython",
    "version": 3
   },
   "file_extension": ".py",
   "mimetype": "text/x-python",
   "name": "python",
   "nbconvert_exporter": "python",
   "pygments_lexer": "ipython3",
   "version": "3.10.9"
  },
  "orig_nbformat": 4,
  "vscode": {
   "interpreter": {
    "hash": "b0fa6594d8f4cbf19f97940f81e996739fb7646882a419484c72d19e05852a7e"
   }
  }
 },
 "nbformat": 4,
 "nbformat_minor": 2
}
