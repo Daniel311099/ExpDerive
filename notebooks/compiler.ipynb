{
 "cells": [
  {
   "cell_type": "code",
   "execution_count": 1,
   "metadata": {},
   "outputs": [
    {
     "name": "stderr",
     "output_type": "stream",
     "text": [
      "/Users/danielfisaha/exp_derive/env_exp_derive/lib/python3.10/site-packages/pinecone/index.py:4: TqdmExperimentalWarning: Using `tqdm.autonotebook.tqdm` in notebook mode. Use `tqdm.tqdm` instead to force console mode (e.g. in jupyter console)\n",
      "  from tqdm.autonotebook import tqdm\n"
     ]
    }
   ],
   "source": [
    "from ExpDerive.nlp.compiler.compiler import CompilerBuilder\n",
    "# import parse latex\n",
    "from sympy.parsing.latex import parse_latex\n",
    "from sympy.core.function import AppliedUndef\n",
    "from sympy import Symbol"
   ]
  },
  {
   "cell_type": "code",
   "execution_count": 2,
   "metadata": {},
   "outputs": [],
   "source": [
    "compiler_builder = CompilerBuilder()\n",
    "compiler = compiler_builder.build()"
   ]
  },
  {
   "cell_type": "code",
   "execution_count": 3,
   "metadata": {},
   "outputs": [],
   "source": [
    "phrases = [\n",
    "    \"sum of goals scored and goals against\",\n",
    "    \"sum of goals scored and goals against all divided by 2\",\n",
    "    \"goals conceded minus 1 times goals scored\",\n",
    "]"
   ]
  },
  {
   "cell_type": "code",
   "execution_count": 4,
   "metadata": {},
   "outputs": [
    {
     "name": "stdout",
     "output_type": "stream",
     "text": [
      "compiling square root of goals scored\n",
      "building ast\n",
      "building ast for square root of goals scored\n",
      "square root of goals scored [{'id': 'goals',\n",
      " 'metadata': {'dataType': 'float',\n",
      "              'description': 'goals scored',\n",
      "              'label': 'goals',\n",
      "              'type': 'standard'},\n",
      " 'score': 0.886549175,\n",
      " 'values': []}]\n",
      "['@@', 'square', 'root', 'of', '##', 'goals', 'scored']\n",
      "@@ square root of ## goals scored Func(name='square root of', type='prefix', custom=None, loc=(0, 3))\n",
      "root function is:  Func(name='square root of', type='prefix', custom=None, loc=(0, 3))\n",
      "square root of [{'id': 'square root',\n",
      " 'metadata': {'description': 'square root',\n",
      "              'label': 'square root',\n",
      "              'type': 'builtIn'},\n",
      " 'score': 0.948859513,\n",
      " 'values': []}]\n",
      "root function is: square root\n",
      "processed square root of @@ goals scored ##\n",
      "args are: ['goals scored']\n",
      "building ast for goals scored\n",
      "goals scored [{'id': 'goals',\n",
      " 'metadata': {'dataType': 'float',\n",
      "              'description': 'goals scored',\n",
      "              'label': 'goals',\n",
      "              'type': 'standard'},\n",
      " 'score': 1.00523674,\n",
      " 'values': []}]\n",
      "phrase is a variable: goals\n",
      "generating Latex\n",
      "flattening:  square root\n",
      "flattened:  square root ??goals##\n",
      "expression:  square root goals\n",
      "\\sqrt {\\mathit{goals}}\n"
     ]
    },
    {
     "data": {
      "text/latex": [
       "$\\displaystyle \\sqrt{goals}$"
      ],
      "text/plain": [
       "sqrt(goals)"
      ]
     },
     "execution_count": 4,
     "metadata": {},
     "output_type": "execute_result"
    }
   ],
   "source": [
    "phrase = \"square root of goals scored\"\n",
    "latex = compiler.compile(phrase)\n",
    "print(latex)\n",
    "exp = parse_latex(latex)\n",
    "exp"
   ]
  },
  {
   "cell_type": "code",
   "execution_count": 5,
   "metadata": {},
   "outputs": [
    {
     "data": {
      "text/latex": [
       "$\\displaystyle a v e r a g e{\\left(goals i g h t \\right)}$"
      ],
      "text/plain": [
       "a*(v*(e*(r*(a*(g*e(goals*(i*(g*(h*t)))))))))"
      ]
     },
     "execution_count": 5,
     "metadata": {},
     "output_type": "execute_result"
    }
   ],
   "source": [
    "parse_latex(\"average \\left( \\mathit{goals} \\right)} \\mathit{assists}\")"
   ]
  },
  {
   "cell_type": "code",
   "execution_count": 6,
   "metadata": {},
   "outputs": [
    {
     "data": {
      "text/plain": [
       "{goals}"
      ]
     },
     "execution_count": 6,
     "metadata": {},
     "output_type": "execute_result"
    }
   ],
   "source": [
    "exp.atoms(Symbol)"
   ]
  }
 ],
 "metadata": {
  "kernelspec": {
   "display_name": "env_exp_derive",
   "language": "python",
   "name": "python3"
  },
  "language_info": {
   "codemirror_mode": {
    "name": "ipython",
    "version": 3
   },
   "file_extension": ".py",
   "mimetype": "text/x-python",
   "name": "python",
   "nbconvert_exporter": "python",
   "pygments_lexer": "ipython3",
   "version": "3.10.10"
  },
  "orig_nbformat": 4
 },
 "nbformat": 4,
 "nbformat_minor": 2
}
